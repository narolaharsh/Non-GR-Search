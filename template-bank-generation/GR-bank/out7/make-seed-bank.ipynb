{
 "cells": [
  {
   "cell_type": "code",
   "execution_count": 2,
   "metadata": {
    "Collapsed": "false"
   },
   "outputs": [],
   "source": [
    "import numpy as np\n",
    "import h5py"
   ]
  },
  {
   "cell_type": "code",
   "execution_count": 3,
   "metadata": {
    "Collapsed": "false"
   },
   "outputs": [],
   "source": [
    "bank = h5py.File('Feb12.h5', 'r+')"
   ]
  },
  {
   "cell_type": "code",
   "execution_count": 4,
   "metadata": {
    "Collapsed": "false"
   },
   "outputs": [
    {
     "data": {
      "text/plain": [
       "[u'approximant',\n",
       " u'f_lower',\n",
       " u'mass1',\n",
       " u'mass2',\n",
       " u'spin1z',\n",
       " u'spin2z',\n",
       " u'template_duration']"
      ]
     },
     "execution_count": 4,
     "metadata": {},
     "output_type": "execute_result"
    }
   ],
   "source": [
    "bank.keys()"
   ]
  },
  {
   "cell_type": "code",
   "execution_count": 5,
   "metadata": {
    "Collapsed": "false"
   },
   "outputs": [
    {
     "name": "stdout",
     "output_type": "stream",
     "text": [
      "deltaChi4\n",
      "deltaChi1\n",
      "deltaChi3\n",
      "deltaChi2\n"
     ]
    }
   ],
   "source": [
    "delta = {'deltaChi1', 'deltaChi2', 'deltaChi3', 'deltaChi4'}\n",
    "\n",
    "empty = np.zeros(len(bank['mass1'][:]), dtype = float)\n",
    "\n",
    "for x in delta:\n",
    "    print x\n",
    "    bank.create_dataset(x, dtype = float, data = empty)"
   ]
  },
  {
   "cell_type": "code",
   "execution_count": 6,
   "metadata": {
    "Collapsed": "false"
   },
   "outputs": [],
   "source": [
    "bank.close()"
   ]
  },
  {
   "cell_type": "code",
   "execution_count": 9,
   "metadata": {
    "Collapsed": "false"
   },
   "outputs": [
    {
     "data": {
      "text/plain": [
       "[u'approximant',\n",
       " u'deltaChi1',\n",
       " u'deltaChi2',\n",
       " u'deltaChi3',\n",
       " u'deltaChi4',\n",
       " u'f_lower',\n",
       " u'mass1',\n",
       " u'mass2',\n",
       " u'spin1z',\n",
       " u'spin2z',\n",
       " u'template_duration']"
      ]
     },
     "execution_count": 9,
     "metadata": {},
     "output_type": "execute_result"
    }
   ],
   "source": [
    "bank = h5py.File('Feb12.h5', 'r')\n",
    "bank.keys()"
   ]
  },
  {
   "cell_type": "code",
   "execution_count": null,
   "metadata": {
    "Collapsed": "false"
   },
   "outputs": [],
   "source": []
  }
 ],
 "metadata": {
  "kernelspec": {
   "display_name": "Python 2.7.5 [Long Term - SL7]",
   "language": "python",
   "name": "python2-lta"
  },
  "language_info": {
   "codemirror_mode": {
    "name": "ipython",
    "version": 2
   },
   "file_extension": ".py",
   "mimetype": "text/x-python",
   "name": "python",
   "nbconvert_exporter": "python",
   "pygments_lexer": "ipython2",
   "version": "2.7.5"
  }
 },
 "nbformat": 4,
 "nbformat_minor": 4
}
